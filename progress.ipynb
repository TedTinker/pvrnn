{
 "cells": [
  {
   "cell_type": "code",
   "execution_count": 2,
   "metadata": {},
   "outputs": [
    {
     "name": "stdout",
     "output_type": "stream",
     "text": [
      "Ongoing:\n",
      "None.\n",
      "\n",
      "\n",
      "\n",
      "Finished:\n",
      "None.\n",
      "\n",
      "\n",
      "\n",
      "1... 2... 3... 4... 5... "
     ]
    }
   ],
   "source": [
    "import os\n",
    "import shutil\n",
    "from time import sleep\n",
    "from linecache import getline\n",
    "from IPython.display import clear_output\n",
    "\n",
    "\n",
    "\n",
    "class File:\n",
    "    \n",
    "    def __init__(self, file_name):\n",
    "        self.delete_me = False\n",
    "        self.file_name = file_name\n",
    "        file_name, suffix = file_name.split(\".\")\n",
    "        if(suffix != \"out\"): self.delete_me = True ; return\n",
    "        self.slurm_name = file_name.split(\"_\")[0]\n",
    "            \n",
    "        self.name_for_user = \"Starting...\"\n",
    "        lines = open(self.file_name).readlines()\n",
    "        for i, line in enumerate(lines):\n",
    "            if(line[:5] == \"name:\" and lines[i+1][0] != \"\\t\"):\n",
    "                self.name_for_user = lines[i+1][:-1]\n",
    "                break\n",
    "        \n",
    "        self.last_line = \"Starting...\"\n",
    "        if(len(lines) != 0):\n",
    "            last = -1\n",
    "            while(lines[last] == \"\\n\"): last -= 1\n",
    "            self.last_line = lines[last]\n",
    "            \n",
    "    def done(self):\n",
    "        if(self.last_line.endswith(\"Done!\\n\")): return(True)\n",
    "        return(False)\n",
    "        \n",
    "    def __lt__(self, other): return(self.slurm_name < other.slurm_name)\n",
    "            \n",
    "    \n",
    "\n",
    "first = True\n",
    "while(True):\n",
    "    file_names = [f for f in os.listdir() if f[:5]==\"slurm\"]\n",
    "    print(file_names)\n",
    "    \n",
    "    files = []\n",
    "    for name in file_names:\n",
    "        file = File(name)\n",
    "        if(file.delete_me): pass \n",
    "        else:               files.append(file)\n",
    "    files.sort()\n",
    "\n",
    "    ongoing = []              ; finished = []\n",
    "    \n",
    "    for file in files:\n",
    "        done = file.done() \n",
    "        if(done): finished.append(file)\n",
    "        else:     ongoing.append(file)\n",
    "    \n",
    "    if(not first):\n",
    "        print(\"\\n\\n\")\n",
    "        for i in range(10):\n",
    "            print(i+1, end = \"... \")\n",
    "            sleep(1)\n",
    "    first = False\n",
    "    \n",
    "    clear_output(wait=True)\n",
    "    \n",
    "    print(\"Ongoing:\")\n",
    "    if(len(ongoing) == 0): print(\"None.\")\n",
    "    for file in ongoing: \n",
    "        last_line = file.last_line if file.last_line[-1] != \"\\n\" else file.last_line[:-1]\n",
    "        print(\"{} ({}): \\t{}\".format(file.name_for_user, file.file_name, last_line))\n",
    "\n",
    "    print(\"\\n\\n\\nFinished:\")\n",
    "    if(len(finished) == 0): print(\"None.\")\n",
    "    else:\n",
    "        for i, file in enumerate(finished):\n",
    "            last_line = file.last_line if file.last_line[-1] != \"\\n\" else file.last_line[:-1]\n",
    "            print(\"{} ({}): \\t{}\".format(file.name_for_user, file.file_name, last_line))\n",
    "            "
   ]
  }
 ],
 "metadata": {
  "kernelspec": {
   "display_name": "Python 3 (ipykernel)",
   "language": "python",
   "name": "python3"
  },
  "language_info": {
   "codemirror_mode": {
    "name": "ipython",
    "version": 3
   },
   "file_extension": ".py",
   "mimetype": "text/x-python",
   "name": "python",
   "nbconvert_exporter": "python",
   "pygments_lexer": "ipython3",
   "version": "3.8.10"
  },
  "vscode": {
   "interpreter": {
    "hash": "e7370f93d1d0cde622a1f8e1c04877d8463912d04d973331ad4851f04de6915a"
   }
  }
 },
 "nbformat": 4,
 "nbformat_minor": 2
}
